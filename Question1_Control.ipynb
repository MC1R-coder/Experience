{
  "nbformat": 4,
  "nbformat_minor": 0,
  "metadata": {
    "colab": {
      "provenance": []
    },
    "kernelspec": {
      "name": "python3",
      "display_name": "Python 3"
    },
    "language_info": {
      "name": "python"
    }
  },
  "cells": [
    {
      "cell_type": "code",
      "source": [
        "import math\n",
        "import numpy as np\n",
        "\n",
        "\n",
        "# Your Ca\n",
        "Ca = 0.102  # mol/l\n",
        "\n",
        "# Given parameters\n",
        "Q = 100  # l/min\n",
        "V = 100  # l\n",
        "k0 = 7.2e10  # min^-1\n",
        "E_div_R = 1e4  # K\n",
        "Ca0 = 1  # mol/l\n",
        "T0 = 350\n",
        "Tc0 = 350\n",
        "H = -2e5\n",
        "p = 1000\n",
        "pc = 1000\n",
        "Cp= 1\n",
        "Cpc= 1\n",
        "ha = 7e5\n",
        "T = (-E_div_R)/(math.log(((Q/V)*(Ca0-Ca))/(k0*Ca)))\n",
        "print(T)"
      ],
      "metadata": {
        "colab": {
          "base_uri": "https://localhost:8080/"
        },
        "id": "IPoZHXmqYbS-",
        "outputId": "b6efa6e8-5b02-4ed6-ae29-3c2e2c15aee8"
      },
      "execution_count": null,
      "outputs": [
        {
          "output_type": "stream",
          "name": "stdout",
          "text": [
            "438.1211931276545\n"
          ]
        }
      ]
    },
    {
      "cell_type": "code",
      "source": [
        "k1 = (H*k0) / (p*Cp)\n",
        "\n",
        "k2 = (pc*Cpc) / (p*Cp*V)\n",
        "\n",
        "k3 = (ha/(pc*Cp))\n",
        "print(k1,k2,k3)\n",
        "\n",
        "Neg_val = ((T0 - T)-k1*Ca*np.exp(-E_div_R/T))/(k2 *(Tc0 - T))\n",
        "print(Neg_val)"
      ],
      "metadata": {
        "colab": {
          "base_uri": "https://localhost:8080/"
        },
        "id": "74V7bATWa1t0",
        "outputId": "09b0d1f1-5a54-4ed5-9ed6-a15f9006f7b0"
      },
      "execution_count": null,
      "outputs": [
        {
          "output_type": "stream",
          "name": "stdout",
          "text": [
            "-14400000000000.0 0.01 700.0\n",
            "-103.81022274610699\n"
          ]
        }
      ]
    },
    {
      "cell_type": "code",
      "source": [
        "import numpy as np\n",
        "\n",
        "\n",
        "def f(q):\n",
        "\n",
        "    return q - q * np.exp(-700/q) +Neg_val\n",
        "\n",
        "\n",
        "\n",
        "def df(q):\n",
        "\n",
        "    return 1 - 700 * np.exp(-700/q) / q - np.exp(-700/q)\n",
        "\n",
        "\n",
        "\n",
        "def newton_raphson(q0, tol=1e-6, max_iter=5):\n",
        "\n",
        "    q = q0\n",
        "\n",
        "    for _ in range(max_iter):\n",
        "        q_new = q - f(q)/df(q)\n",
        "        print(q_new)\n",
        "\n",
        "        if abs(q_new - q) < tol:  # Check for convergence\n",
        "            return q_new\n",
        "\n",
        "        q = q_new\n",
        "\n",
        "    raise ValueError(f\"No convergence after {max_iter} iterations.\")\n",
        "\n",
        "# Initial guess\n",
        "q0 = 10\n",
        "q_solution = newton_raphson(q0)\n",
        "print(f\"The solution for q is approximately {q_solution:.8f}\")"
      ],
      "metadata": {
        "colab": {
          "base_uri": "https://localhost:8080/"
        },
        "id": "DrCDg7bCV28G",
        "outputId": "264eb8be-006e-47f4-d28c-487b51ec14db"
      },
      "execution_count": null,
      "outputs": [
        {
          "output_type": "stream",
          "name": "stdout",
          "text": [
            "103.81022274610699\n",
            "103.93374446596818\n",
            "103.93374844803056\n",
            "103.93374844803056\n",
            "The solution for q is approximately 103.93374845\n"
          ]
        }
      ]
    },
    {
      "cell_type": "code",
      "source": [
        "#Validate\n",
        "qc = q_solution\n",
        "if((Q/V) * (T0 - T) - k1 * Ca * np.exp(-E_div_R/T) + k2 * qc * (1 - np.exp(-k3/qc)) * (Tc0 - T)==0):\n",
        "  print(\"Values true\")\n",
        "  print(f\"T = {T}\")\n",
        "  print(f\"qc = {qc}\")\n",
        "  print(f\"v(t) = {qc/20}\")\n",
        "\n",
        "else:\n",
        "  print(\"Didnt work\")"
      ],
      "metadata": {
        "colab": {
          "base_uri": "https://localhost:8080/"
        },
        "id": "0PQB7CUJTmSN",
        "outputId": "16660c61-9e83-4d06-ea9b-07de87341895"
      },
      "execution_count": null,
      "outputs": [
        {
          "output_type": "stream",
          "name": "stdout",
          "text": [
            "Values true\n",
            "T = 438.1211931276545\n",
            "qc = 103.93374844803056\n",
            "v(t) = 5.196687422401528\n"
          ]
        }
      ]
    }
  ]
}